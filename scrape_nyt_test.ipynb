{
 "cells": [
  {
   "cell_type": "markdown",
   "metadata": {},
   "source": [
    "## Scrape ratings data"
   ]
  },
  {
   "cell_type": "code",
   "execution_count": 2,
   "metadata": {},
   "outputs": [],
   "source": [
    "import pandas as pd\n",
    "\n",
    "import time\n",
    "import pickle\n",
    "import random\n",
    "from datetime import datetime\n",
    "import re\n",
    "\n",
    "from pymongo import MongoClient\n",
    "from pprint import pprint\n",
    "\n",
    "import requests\n",
    "from bs4 import BeautifulSoup"
   ]
  },
  {
   "cell_type": "markdown",
   "metadata": {},
   "source": [
    "### List of all recipes in search"
   ]
  },
  {
   "cell_type": "code",
   "execution_count": 24,
   "metadata": {},
   "outputs": [],
   "source": [
    "base_url = 'https://cooking.nytimes.com/search'\n",
    "recipe_urls = []\n",
    "image_urls = []"
   ]
  },
  {
   "cell_type": "code",
   "execution_count": 25,
   "metadata": {},
   "outputs": [
    {
     "name": "stdout",
     "output_type": "stream",
     "text": [
      "200\n"
     ]
    }
   ],
   "source": [
    "# test\n",
    "url = base_url\n",
    "response = requests.get(url)\n",
    "print(response.status_code)"
   ]
  },
  {
   "cell_type": "code",
   "execution_count": 26,
   "metadata": {},
   "outputs": [],
   "source": [
    "# recipe urls\n",
    "def get_recipe_and_image_urls(recipe_urls, image_urls, url):\n",
    "    \n",
    "    response = requests.get(url)\n",
    "    page = response.text\n",
    "    soup = BeautifulSoup(page, \"lxml\")\n",
    "\n",
    "    for article in soup.find_all('article',attrs={\"class\":\"card recipe-card\"}):\n",
    "        recipe_urls.append('https://cooking.nytimes.com' + article['data-url'])\n",
    "        if '.jpg' in article['data-seo-image-url']:\n",
    "            image_urls.append(article['data-seo-image-url'])\n",
    "        else:\n",
    "            image_urls.append(None)\n",
    "    return recipe_urls, image_urls"
   ]
  },
  {
   "cell_type": "code",
   "execution_count": 27,
   "metadata": {},
   "outputs": [],
   "source": [
    "# get the base case\n",
    "recipes, images = get_recipe_and_image_urls(recipe_urls, image_urls, base_url)"
   ]
  },
  {
   "cell_type": "code",
   "execution_count": 28,
   "metadata": {},
   "outputs": [],
   "source": [
    "for num in range(1,409): #409\n",
    "    time.sleep(4)\n",
    "    search_url = base_url + '?q=&page=' + str(num)\n",
    "    recipe_urls, image_urls = get_recipe_and_image_urls(recipe_urls, image_urls, search_url)\n",
    "\n",
    "recipes = list(zip(recipe_urls,image_urls)"
   ]
  },
  {
   "cell_type": "code",
   "execution_count": 37,
   "metadata": {},
   "outputs": [],
   "source": [
    "# pickle the list of urls\n",
    "with open('urls_recipe_image.pickle', 'wb') as write_file:\n",
    "    pickle.dump(recipes), write_file)"
   ]
  },
  {
   "cell_type": "code",
   "execution_count": 9,
   "metadata": {},
   "outputs": [],
   "source": [
    "# retrieve the list\n",
    "with open('urls_recipe_image.pickle','rb') as read_file:\n",
    "    recipes = pickle.load(read_file)"
   ]
  },
  {
   "cell_type": "markdown",
   "metadata": {},
   "source": [
    " ### Get recipe blurbs and article urls"
   ]
  },
  {
   "cell_type": "code",
   "execution_count": 107,
   "metadata": {},
   "outputs": [
    {
     "name": "stdout",
     "output_type": "stream",
     "text": [
      "https://cooking.nytimes.com/recipes/2461-oatmeal-raisin-cookies\n"
     ]
    }
   ],
   "source": [
    "# don't make these nulls, just don't include them\n",
    "recipe_dict_list = []\n",
    "\n",
    "for recipe in recipes[15156:]:\n",
    "    \n",
    "    time.sleep(.5+2*random.random())\n",
    "    response = requests.get(url)\n",
    "    \n",
    "    if response.status_code == 200:\n",
    "        page = response.text\n",
    "        soup = BeautifulSoup(page, \"lxml\")\n",
    "        recipe_dict={\n",
    "            'recipe_url':recipe[0], #url\n",
    "            'image_url':recipe[1] #image url\n",
    "#             'article_text':None,\n",
    "#             'article_title':None,\n",
    "#             'article_author':None,\n",
    "#             'article_date':None\n",
    "        }\n",
    "        \n",
    "        try:\n",
    "            recipe_dict['article_url'] = assign_recipe_dict(soup.find('p',attrs={\"class\":\"related-article\"}).find('a')['href'])\n",
    "        except:\n",
    "            recipe_dict['article_url'] = None\n",
    "        \n",
    "        try:\n",
    "            recipe_dict['recipe_title'] = soup.find('div',attrs={\"class\":\"title-container\"}).find('h1')['data-name']\n",
    "        except:\n",
    "            recipe_dict['recipe_title'] = None\n",
    "        \n",
    "        try:\n",
    "            recipe_dict['recipe_description'] = soup.find(itemprop='description').find('p').text\n",
    "        except:\n",
    "            recipe_dict['recipe_description'] = None\n",
    "        \n",
    "        try:\n",
    "            recipe_dict['recipe_author'] = soup.find('div',attrs={\"class\":\"recipe-subhead\"}).find('h3').find('a')['data-author']\n",
    "        except:\n",
    "            recipe_dict['recipe_author'] = None\n",
    "        \n",
    "    # add a dictionary with only the recipe url and the image url if the link doesn't work, and print the recipe url\n",
    "    else:\n",
    "        recipe_dict = {\n",
    "            'recipe_url':recipe[0], #url\n",
    "            'image_url':recipe[1], #image url\n",
    "            'recipe_title':None,\n",
    "            'recipe_description':None,\n",
    "            'recipe_author':None,\n",
    "            'article_url':None\n",
    "#             'article_text':None,\n",
    "#             'article_title':None,\n",
    "#             'article_author':None,\n",
    "#             'article_date':None\n",
    "        }\n",
    "        print(url)\n",
    "    \n",
    "    recipe_dict_list.append(recipe_dict)\n",
    "    \n",
    "    if len(recipe_dict_list)%200==0:\n",
    "        with open('nyt_dicts_list.pickle', 'wb') as write_file:\n",
    "            pickle.dump(recipe_dict_list, write_file)"
   ]
  },
  {
   "cell_type": "code",
   "execution_count": 122,
   "metadata": {},
   "outputs": [
    {
     "name": "stdout",
     "output_type": "stream",
     "text": [
      "18719\n"
     ]
    },
    {
     "data": {
      "text/plain": [
       "8110"
      ]
     },
     "execution_count": 122,
     "metadata": {},
     "output_type": "execute_result"
    }
   ],
   "source": [
    "article_list = []\n",
    "counter=0\n",
    "for recipe in recipe_dict_list:\n",
    "    if recipe['article_url'] is not None:\n",
    "        article_list.append(recipe['article_url'])\n",
    "        counter+=1\n",
    "print(counter)\n",
    "len(article_list)\n",
    "len(set(article_list))"
   ]
  },
  {
   "cell_type": "code",
   "execution_count": 166,
   "metadata": {},
   "outputs": [],
   "source": [
    "# make list of recipes that have either a description or a url for an article\n",
    "# todo- make a set of article urls since some recipes link to the same article\n",
    "\n",
    "recipes_with_articleurl = []\n",
    "recipes_with_description = []\n",
    "\n",
    "for recipe in recipe_dict_list:\n",
    "    if recipe['article_url']:\n",
    "        recipes_with_articleurl.append(recipe)\n",
    "    if recipe['recipe_description']:\n",
    "        recipes_with_description.append(recipe)        "
   ]
  },
  {
   "cell_type": "code",
   "execution_count": 162,
   "metadata": {},
   "outputs": [
    {
     "data": {
      "text/plain": [
       "6"
      ]
     },
     "execution_count": 162,
     "metadata": {},
     "output_type": "execute_result"
    }
   ],
   "source": [
    "#remove these dictionaries and don't append any that don't have a recipe website (change the secondary append)\n",
    "no_website_list=['https://cooking.nytimes.com/recipes/8478-candied-squash-and-ginger-relish',\n",
    "'https://cooking.nytimes.com/recipes/8476-roasted-squash-puree',\n",
    "'https://cooking.nytimes.com/recipes/8321-monterey-county-jail-oatmeal',\n",
    "'https://cooking.nytimes.com/recipes/10625-oatmeal-cookies',\n",
    "'https://cooking.nytimes.com/recipes/1372-hummus',\n",
    "'https://cooking.nytimes.com/recipes/2461-oatmeal-raisin-cookies'\n",
    "]\n",
    "len(no_website_list)"
   ]
  },
  {
   "cell_type": "code",
   "execution_count": 180,
   "metadata": {},
   "outputs": [],
   "source": [
    "# pickle the list\n",
    "with open('nyt_dicts_list.pickle', 'wb') as write_file:\n",
    "    pickle.dump(recipe_dict_list, write_file)"
   ]
  },
  {
   "cell_type": "code",
   "execution_count": 181,
   "metadata": {},
   "outputs": [],
   "source": [
    "# retrieve the list\n",
    "with open('nyt_dicts_list.pickle','rb') as read_file:\n",
    "    recipe_dict_list = pickle.load(read_file)"
   ]
  },
  {
   "cell_type": "markdown",
   "metadata": {},
   "source": [
    "### Article\n",
    "#### Make a separate collection and drop in the dictionaries as you go"
   ]
  },
  {
   "cell_type": "code",
   "execution_count": 303,
   "metadata": {},
   "outputs": [
    {
     "name": "stdout",
     "output_type": "stream",
     "text": [
      "number of linked articles: 18719\n",
      "number of unique linked articles: 8110\n"
     ]
    }
   ],
   "source": [
    "article_list = []\n",
    "\n",
    "for doc in list(descr_col.find({'article_url': {'$ne':None}},{ '_id': 0, 'article_url':1})):\n",
    "    article_list.append(doc['article_url'])\n",
    "\n",
    "print(f\"number of linked articles: {len(article_list)}\")\n",
    "print(f\"number of unique linked articles: {len(set(article_list))}\")"
   ]
  },
  {
   "cell_type": "code",
   "execution_count": 269,
   "metadata": {},
   "outputs": [
    {
     "name": "stdout",
     "output_type": "stream",
     "text": [
      "https://www.nytimes.com/2019/05/17/dining/top-chef-eric-adjepong-west-african-food.html\n"
     ]
    },
    {
     "data": {
      "text/plain": [
       "200"
      ]
     },
     "execution_count": 269,
     "metadata": {},
     "output_type": "execute_result"
    }
   ],
   "source": [
    "# get the scraping code to work on an example\n",
    "\n",
    "url = 'https://www.nytimes.com/2019/05/17/dining/top-chef-eric-adjepong-west-african-food.html' #recipe_dict_list[0]['article_url']\n",
    "print(url)\n",
    "response = requests.get(url)\n",
    "response.status_code"
   ]
  },
  {
   "cell_type": "code",
   "execution_count": 270,
   "metadata": {},
   "outputs": [],
   "source": [
    "page = response.text\n",
    "soup = BeautifulSoup(page, \"lxml\")"
   ]
  },
  {
   "cell_type": "code",
   "execution_count": 271,
   "metadata": {},
   "outputs": [
    {
     "name": "stdout",
     "output_type": "stream",
     "text": [
      "Nearly a year ago, the chef Eric Adjepong stood in Macau on the set of the “Top Chef,” having made it to the finals of the cooking competition show. The only thing standing between him and the title was a four-course meal, served in two parts. He’d decided to use his menu to show the judges how influential Africa’s culinary heritage is on other parts of the world, including America.“I wanted to tell the story of the trans-Atlantic slave trade from Africa through Caribbean ports, the American South and South America through food,” he said recently. “It’s an unfortunate story, but one that needs to be told.”Mr. Adjepong, 31, is first-generation Ghanaian-American, and grew up in the Little Ghana neighborhood of the Bronx. He was the first West African contestant on “Top Chef,” which just aired its 16th season, introducing some viewers and judges to dishes like fufu and egusi stew.And then, after the first course, Mr. Adjepong was eliminated, after the jerk sauce in his Jamaican-inspired steak tartare overwhelmed the flavor of the beef, and his yuca chip garnish spent too much time in the fryer. He lost to two white Southern chefs, which he found ironic: “Their story is rooted in West Africa, too,” he said, “just in a different way.”The episode, which aired in March, elicited strong reactions from fans on social media, with some viewers calling for more diverse judges who would understand the nuances of the various cuisines of the African diaspora referenced in Mr. Adjepong’s cooking. “The support was overwhelming,” he said. “People were just so proud to see the food that I was cooking.”Alexander Smalls, a New York restaurateur and author focusing on African-American foodways, was a judge for the second part of the finale, after Mr. Adjepong was eliminated, and he was confronted with the outcry after the episode aired. “Folks were really looking forward to his meal and felt like they had lost something by not getting to see it,” he said. “It was more than a meal, it was educational.”The chef Tom Colicchio, the head “Top Chef” judge, said that he had anticipated that reaction; he reached out to Mr. Adjepong after the episode aired to see if he wanted to do a dinner and finish cooking his menu. And so on Monday evening, at Mr. Colicchio’s restaurant Craft in Manhattan, Mr. Adjepong presented the full menu: “The Trans-Atlantic Slave Trade Through Food,” a dinner that zigzags across the Atlantic Ocean, retracing the forced migration of enslaved Africans and illuminating the deep and lasting global culinary influences of the continent.Over the four courses, Mr. Adjepong combined ingredients from Ghana, Nigeria and Senegal with influences from countries and regions along the slave trade routes, tracing lines to Jamaica and other islands in the Caribbean, Brazil and the southeastern United States.A course of king crab, the meat twirled into bundles like angel hair pasta, rested in a pool of beurre blanc made with palm wine, a West African drink made of palm tree sap, the sauce studded with puffed Carolina Gold rice. Onion jam mimicked the tangy, spiciness of the Senegalese stew poulet yassa. Cassava, also known as yuca, showed up in multiple courses, a reflection of its importance in the cuisines of the diaspora. A dessert of corn and goat’s milk pudding was served with piles of tangy magenta tapioca pearls made with Nigerian hibiscus, familiar to anyone who knows the drinks zobo, sorrel or sobolo. (“Hibiscus is such a familiar flavor and color across the diaspora, I wanted to include it,” Mr. Adjepong said.) This was the first in a series of dinners at Craft highlighting chefs with strong culinary voices who do not have brick-and-mortar restaurant spaces. Through mid-June, Craft will host dinners by the chefs Omar Tate, a Philadelphia chef who uses food to explore blackness in America at his pop-up Honeysuckle; Gabriela Álvarez, who uses food to tell the story of Puerto Rico before and after Hurricane Maria; and Behzad Jamshidi, who uses spoken word and art in addition to food to create a multisensory Persian experience.Mr. Colicchio said more diners are seeking out these kinds of stories instead of “just ingredients on a plate,” and that he wants to use his platform to support this kind of work. “I’m Italian-American, but I grew up cooking French food and was taught that’s what you had to do,” he said. “I think a lot of people are turning around and saying, ‘No, we don’t have to do that food.’”“Young chefs who have worked under older chefs are now seeing that they don’t have to cook French and Italian, and they can tell their own stories,” he added.Monday night’s dinner gave Mr. Adjepong the opportunity to finish this particular story and continue his mission of making African food more prominent in America. From an open kitchen, with the help of a team of six chefs, he cooked the meal he hopes will illustrate Africa’s culinary influence on the world. “So, you’re going to have the steak tartare first, but there’s been some adjustments,” he said to the diners as he laughed, while Fela Kuti’s “Water No Get Enemy” played softly in the background. That night, the tartare sat under herbs with flaked salt and fresh shallots, with a pool of the jerk sauce on the side and fried plantain chips adorning the dish like polka dots.“I was supposed to do this meal for the finale,” he said to the crowd. “But being at home in New York, this feels a lot better.”\n"
     ]
    }
   ],
   "source": [
    "# article text\n",
    "\n",
    "# skipping the last paragraph, it's just links, \n",
    "# strip the \"(View this recipe in NYT Cooking)\" text\n",
    "\n",
    "article_body=''\n",
    "\n",
    "for div in soup.find_all('div',attrs={\"class\":\"StoryBodyCompanionColumn\"})[:-1]:\n",
    "    for next_div in div.find_all('div'):\n",
    "        if next_div.find('p'):\n",
    "            for p in next_div.find_all('p'):\n",
    "                article_body+=p.text\n",
    "\n",
    "print(article_body)"
   ]
  },
  {
   "cell_type": "markdown",
   "metadata": {},
   "source": [
    "document with article, article url, date, author, and a list of any recipes that link to it"
   ]
  },
  {
   "cell_type": "code",
   "execution_count": 281,
   "metadata": {},
   "outputs": [
    {
     "data": {
      "text/plain": [
       "'By Korsha Wilson'"
      ]
     },
     "execution_count": 281,
     "metadata": {},
     "output_type": "execute_result"
    }
   ],
   "source": [
    "# article author\n",
    "# this won't work on unusual pieces, like the samin nosrat column\n",
    "# also strip the by, maybe just add ot stop words\n",
    "soup.find('p',attrs={\"itemprop\":\"author creator\"}).text"
   ]
  },
  {
   "cell_type": "code",
   "execution_count": 293,
   "metadata": {},
   "outputs": [
    {
     "name": "stdout",
     "output_type": "stream",
     "text": [
      "2019-05-17\n"
     ]
    }
   ],
   "source": [
    "# date\n",
    "# yeah I can do this but it might be easier just to strip it from the url with a regex since not all have a date\n",
    "for li in soup.find_all('li'):\n",
    "    if li.find('time'):\n",
    "        print(li.find('time')['datetime'])"
   ]
  },
  {
   "cell_type": "code",
   "execution_count": 298,
   "metadata": {},
   "outputs": [
    {
     "name": "stdout",
     "output_type": "stream",
     "text": [
      "A Chef Tells the Story of the Slave Trade Through Dinner\n"
     ]
    }
   ],
   "source": [
    "# title\n",
    "for h1 in soup.find_all('h1', attrs={'itemprop':'headline'}):\n",
    "    print(h1.text)"
   ]
  },
  {
   "cell_type": "markdown",
   "metadata": {},
   "source": [
    "### Create database and collection and push the dictionaries to mongo"
   ]
  },
  {
   "cell_type": "markdown",
   "metadata": {},
   "source": [
    "sudo service mongod start"
   ]
  },
  {
   "cell_type": "code",
   "execution_count": 3,
   "metadata": {},
   "outputs": [],
   "source": [
    "client = MongoClient()"
   ]
  },
  {
   "cell_type": "code",
   "execution_count": 186,
   "metadata": {},
   "outputs": [],
   "source": [
    "# # create db\n",
    "# recipe_db = client['recipes']\n",
    "# # make a collection in the db\n",
    "# col = recipe_db['descriptions']\n",
    "# # add the recipe description dictionaries\n",
    "# inserted_descriptions = col.insert_many(recipe_dict_list)\n",
    "# # check the insert\n",
    "# inserted_descriptions.inserted_ids[19606]"
   ]
  },
  {
   "cell_type": "code",
   "execution_count": 4,
   "metadata": {},
   "outputs": [
    {
     "data": {
      "text/plain": [
       "['descriptions']"
      ]
     },
     "execution_count": 4,
     "metadata": {},
     "output_type": "execute_result"
    }
   ],
   "source": [
    "rec_db = client.recipes\n",
    "rec_db.list_collection_names()"
   ]
  },
  {
   "cell_type": "code",
   "execution_count": 5,
   "metadata": {},
   "outputs": [],
   "source": [
    "descr_col = rec_db.descriptions"
   ]
  },
  {
   "cell_type": "code",
   "execution_count": 10,
   "metadata": {},
   "outputs": [
    {
     "data": {
      "text/plain": [
       "{'recipe_url': 'https://cooking.nytimes.com/recipes/1020205-ash-reshteh-persian-greens-bean-and-noodle-soup',\n",
       " 'image_url': 'https://static01.nyt.com/images/2019/05/15/dining/14Iranianrex2/merlin_154113918_721ff786-e3ef-453f-b3a0-deec1d8f8e02-threeByTwoMediumAt2X.jpg',\n",
       " 'recipe_title': 'Ash Reshteh (Persian Greens, Bean and Noodle Soup)',\n",
       " 'recipe_description': 'Ash reshteh’s flavor is defined by two uniquely Persian ingredients: reshteh and kashk. The soup, served during the festivities leading up to Nowruz, the Persian New Year, wouldn’t be the same without the soup noodles called reshteh, which are saltier and starchier than Italian noodles — though you could substitute linguine in a pinch. Kashk, a form of drained yogurt or whey, is saltier and more sour than Greek yogurt or sour cream. More like feta than yogurt, liquid kashk gives ash its distinct, satisfying flavor. If you can’t find liquid kashk, buy it powdered and hydrate it with warm water to the consistency of sour cream. Look for both items at a Middle Eastern grocery.',\n",
       " 'recipe_author': 'Samin Nosrat',\n",
       " 'article_url': 'https://www.nytimes.com/2019/05/14/dining/persian-food-recipes-samin-nosrat.html',\n",
       " 'pub_date': datetime.datetime(2019, 5, 14, 0, 0)}"
      ]
     },
     "execution_count": 10,
     "metadata": {},
     "output_type": "execute_result"
    }
   ],
   "source": [
    "descr_col.find_one({},{ '_id': 0})"
   ]
  },
  {
   "cell_type": "code",
   "execution_count": 211,
   "metadata": {},
   "outputs": [
    {
     "name": "stdout",
     "output_type": "stream",
     "text": [
      "{'recipe_url': 'https://cooking.nytimes.com/recipes/31-mushrooms-in-marsala-wine-funghi-alla-marsala', 'image_url': None, 'recipe_title': 'Mushrooms in Marsala Wine (Funghi Alla Marsala)', 'recipe_description': None, 'recipe_author': 'Craig Claiborne', 'article_url': 'https://www.nytimes.com/1981/02/25/garden/soupe-aux-champignons-mushroom-soup.html'}\n",
      "{'recipe_url': 'https://cooking.nytimes.com/recipes/25-mushroom-soup-soupe-aux-champignons', 'image_url': None, 'recipe_title': 'Mushroom Soup (Soupe Aux Champignons)', 'recipe_description': None, 'recipe_author': 'Craig Claiborne', 'article_url': 'https://www.nytimes.com/1981/02/25/garden/soupe-aux-champignons-mushroom-soup.html'}\n",
      "{'recipe_url': 'https://cooking.nytimes.com/recipes/26-meat-broth', 'image_url': None, 'recipe_title': 'Meat Broth', 'recipe_description': None, 'recipe_author': 'Craig Claiborne', 'article_url': 'https://www.nytimes.com/1981/02/25/garden/soupe-aux-champignons-mushroom-soup.html'}\n",
      "{'recipe_url': 'https://cooking.nytimes.com/recipes/1019170-soupe-aux-truffes-vge', 'image_url': None, 'recipe_title': 'Soupe aux Truffes V.G.E.', 'recipe_description': 'Craig Claiborne brought this recipe to The Times in the summer of 1975, for a short profile of the acclaimed French chef Paul Bocuse. Guests at a lunch in East Hampton, N.Y., ate the soup out of dishes marked \"Palais de l\\'Elysée, 25 Février 1975. soupe aux truffles V.G.E. Paul Bocuse,\" commemorating Mr. Bocuse\\'s Legion of Honor award by then French President Valéry Giscard d\\'Estaing, the V.G.E. in question. Mr. Bocuse created the soup for the occasion and soupe aux truffles V.G.E. went on to become one of his most famous dishes.', 'recipe_author': 'Craig Claiborne', 'article_url': 'https://www.nytimes.com/1975/06/30/archives/paul-bocuse-kind-of-chefs-creates-in-an-east-hampton-kitchen.html'}\n",
      "{'recipe_url': 'https://cooking.nytimes.com/recipes/1016999-rhubarb-big-crumb-coffeecake', 'image_url': 'https://static01.nyt.com/images/2015/03/16/dining/big-crumb-coffee-cake/big-crumb-coffee-cake-superJumbo.jpg', 'recipe_title': 'Rhubarb “Big Crumb” Coffeecake', 'recipe_description': 'Rhubarb is an alarmingly sour vegetable passed off as a fruit, but requiring a huge mound of sugar to effect the transformation. Crumb cake is a huge mound of sugar disguised as a cake, but demanding a bracing counterpoint to allay its cloying sweetness. In this cake, the two strike a perfect balance. The extra-large crumbs are made by pinching off marbles of brown sugar dough by hand. It takes a bit more time than pulsing the ingredients in a food processor, but the result is worth the extra effort.', 'recipe_author': 'Melissa Clark', 'article_url': 'https://www.nytimes.com/2007/06/06/dining/06appe.html'}\n"
     ]
    }
   ],
   "source": [
    "# pull only the ones that actually have a description\n",
    "counter=0\n",
    "for x in descr_col.find({},{ '_id': 0})[19600:]:\n",
    "    print(x)\n",
    "    counter+=1\n",
    "    if counter==5:\n",
    "        break"
   ]
  },
  {
   "cell_type": "code",
   "execution_count": 255,
   "metadata": {},
   "outputs": [
    {
     "data": {
      "text/plain": [
       "8061"
      ]
     },
     "execution_count": 255,
     "metadata": {},
     "output_type": "execute_result"
    }
   ],
   "source": [
    "len(list(descr_col.find({'image_url': {'$ne':None}},{ '_id': 0})))"
   ]
  },
  {
   "cell_type": "code",
   "execution_count": 358,
   "metadata": {},
   "outputs": [
    {
     "name": "stdout",
     "output_type": "stream",
     "text": [
      "18719\n",
      "8110\n"
     ]
    }
   ],
   "source": [
    "article_urls = []\n",
    "\n",
    "for doc in list(descr_col.find({'article_url': {'$ne':None}},{ '_id': 0, 'article_url':1})):\n",
    "    article_urls.append(doc['article_url'])\n",
    "\n",
    "print(len(article_urls))\n",
    "print(len((set(article_urls))))"
   ]
  },
  {
   "cell_type": "code",
   "execution_count": 369,
   "metadata": {},
   "outputs": [
    {
     "name": "stdout",
     "output_type": "stream",
     "text": [
      "number of documents with a description 7069\n",
      "number of documents with a unique description 6949\n"
     ]
    }
   ],
   "source": [
    "q_has_desc={'recipe_description': {'$ne':None}}\n",
    "\n",
    "print(f\"number of documents with a description {len(list(descr_col.find(q_has_desc,{ '_id': 0})))}\")\n",
    "print(f\"number of documents with a unique description {len(set(doc['recipe_description'] for doc in list(descr_col.find(q_has_desc))))}\")"
   ]
  },
  {
   "cell_type": "code",
   "execution_count": 373,
   "metadata": {},
   "outputs": [
    {
     "name": "stdout",
     "output_type": "stream",
     "text": [
      "number of documents with an image 8061\n",
      "number of documents with a unique image 7925\n"
     ]
    }
   ],
   "source": [
    "q_has_image={'image_url': {'$ne':None}}\n",
    "\n",
    "print(f\"number of documents with an image {len(list(descr_col.find(q_has_image)))}\")\n",
    "print(f\"number of documents with a unique image {len(set(doc['image_url'] for doc in list(descr_col.find(q_has_image))))}\")"
   ]
  },
  {
   "cell_type": "code",
   "execution_count": 371,
   "metadata": {},
   "outputs": [
    {
     "name": "stdout",
     "output_type": "stream",
     "text": [
      "number of documents with an image and a description: 6333\n",
      "number of documents with a unique description and an image: 6224\n",
      "\n",
      "number of documents with an article url and a description: 6335\n",
      "number of documents with a unique description and an article url: 6261\n",
      "\n",
      "number of documents with a unique description and an article url or an image: 6934\n"
     ]
    }
   ],
   "source": [
    "# sometimes the same image gets used for multiple recipes from the same article, so the image date is valid for both\n",
    "q_has_desc_and_image={'recipe_description': {'$ne':None}, 'image_url': {'$ne':None}}\n",
    "q_has_desc_and_article={'recipe_description': {'$ne':None}, 'article_url': {'$ne':None}}\n",
    "\n",
    "q_has_article={'article_url': {'$ne':None}}\n",
    "q_has_image={'image_url': {'$ne':None}}\n",
    "q_has_desc_and_article_or_image={'recipe_description': {'$ne':None}, '$or': [q_has_article, q_has_image]}\n",
    "\n",
    "print(f\"number of documents with an image and a description: {len(list(descr_col.find(q_has_desc_and_image)))}\")\n",
    "print(f\"number of documents with a unique description and an image: {len(set(doc['recipe_description'] for doc in list(descr_col.find(q_has_desc_and_image))))}\")\n",
    "print('')\n",
    "print(f\"number of documents with an article url and a description: {len(list(descr_col.find(q_has_desc_and_article)))}\")\n",
    "print(f\"number of documents with a unique description and an article url: {len(set(doc['recipe_description'] for doc in list(descr_col.find(q_has_desc_and_article))))}\")\n",
    "print('')\n",
    "print(f\"number of documents with a unique description and an article url or an image: {len(set(doc['recipe_description'] for doc in list(descr_col.find(q_has_desc_and_article_or_image))))}\")"
   ]
  },
  {
   "cell_type": "code",
   "execution_count": 329,
   "metadata": {},
   "outputs": [
    {
     "name": "stdout",
     "output_type": "stream",
     "text": [
      "repeated descriptions: 120\n",
      "repeated images: 136\n",
      "repeated descriptions among recipes with images: 109\n"
     ]
    }
   ],
   "source": [
    "print(f\"repeated descriptions: {7069-6949}\")\n",
    "print(f\"repeated images: {8061-7925}\")\n",
    "print(f\"repeated descriptions among recipes with images: {6333-6224}\")"
   ]
  },
  {
   "cell_type": "code",
   "execution_count": 385,
   "metadata": {},
   "outputs": [
    {
     "name": "stdout",
     "output_type": "stream",
     "text": [
      "Ash reshteh’s flavor is defined by two uniquely Persian ingredients: reshteh and kashk. The soup, served during the festivities leading up to Nowruz, the Persian New Year, wouldn’t be the same without the soup noodles called reshteh, which are saltier and starchier than Italian noodles — though you could substitute linguine in a pinch. Kashk, a form of drained yogurt or whey, is saltier and more sour than Greek yogurt or sour cream. More like feta than yogurt, liquid kashk gives ash its distinct, satisfying flavor. If you can’t find liquid kashk, buy it powdered and hydrate it with warm water to the consistency of sour cream. Look for both items at a Middle Eastern grocery. \n",
      "\n",
      "Named for the city in southwestern Iran, salad-e Shirazi is found on practically every Iranian table at practically every meal. Think of it as an herbier, juicier, more acidic version of Greek salad, Israeli salad or Indian kachumber. It should be bright, crunchy and tart, a nice counterpoint to rich, buttery rice and unctuous stews. Toss the cucumbers, onion, herbs and tomatoes with the lime vinaigrette just before serving to preserve their crunch. In Iran, dining companions usually fight over the leftover juice at the end of a meal. \n",
      "\n",
      "Fesenjoon hails from the verdant northern Iranian hills and coast, where pomegranate and walnut trees grow. Taking its flavor cues from the land, this stew braises bone-in chicken thighs in a blend of toasted walnuts, pomegranate juice and pomegranate molasses. As the sauce cooks, it thickens and deepens to a shade of dark brown similar to that of mole poblano. You’ll need to thin it out with water to prevent it from becoming overly sticky and syrupy. The sweet and sour flavors of the pomegranate, along with the silky texture the walnuts bring to the stew, make it one of the most elegant dishes in Persian cuisine. \n",
      "\n"
     ]
    }
   ],
   "source": [
    "# select only those docs that have an article url or an image\n",
    "# if an article url exists, use its date, if no article use the image url\n",
    "# update the docs to include a date\n",
    "for doc in descr_col.find({})[:3]:\n",
    "    print(doc['recipe_description'], '\\n')\n"
   ]
  },
  {
   "cell_type": "code",
   "execution_count": 480,
   "metadata": {},
   "outputs": [],
   "source": [
    "# add the date the correspoding article was published, or the recipe image was posted, if there is one\n",
    "\n",
    "date_regex='((?:19|20)\\d\\d)\\/(0?[1-9]|1[012])\\/([12][0-9]|3[01]|0?[1-9])'\n",
    "\n",
    "q_has_article={'article_url': {'$ne':None}}\n",
    "q_has_image={'image_url': {'$ne':None}}\n",
    "q_has_desc_and_article_or_image={'recipe_description': {'$ne':None}, '$or': [q_has_article, q_has_image]}\n",
    "\n",
    "for doc in descr_col.find(q_has_desc_and_article_or_image):\n",
    "#     print(datetime.strptime(re.search(date_regex, doc['article_url']).group(), \"%Y/%m/%d\").date())\n",
    "    try:\n",
    "        desc_date = datetime.strptime(re.search(date_regex, doc['article_url']).group(), \"%Y/%m/%d\")\n",
    "    except:\n",
    "        try:\n",
    "            desc_date = datetime.strptime(re.search(date_regex, doc['image_url']).group(), \"%Y/%m/%d\")\n",
    "        except:\n",
    "            continue\n",
    "    descr_col.update_one({\"_id\": doc[\"_id\"]}, {\"$set\": {\"pub_date\": desc_date}})"
   ]
  },
  {
   "cell_type": "code",
   "execution_count": 483,
   "metadata": {},
   "outputs": [
    {
     "name": "stdout",
     "output_type": "stream",
     "text": [
      "2019-05-14 00:00:00 Ash reshteh’s flavor is defined by two uniquely Persian ingredients: reshteh and kashk. The soup, served during the festivities leading up to Nowruz, the Persian New Year, wouldn’t be the same without the soup noodles called reshteh, which are saltier and starchier than Italian noodles — though you could substitute linguine in a pinch. Kashk, a form of drained yogurt or whey, is saltier and more sour than Greek yogurt or sour cream. More like feta than yogurt, liquid kashk gives ash its distinct, satisfying flavor. If you can’t find liquid kashk, buy it powdered and hydrate it with warm water to the consistency of sour cream. Look for both items at a Middle Eastern grocery. \n",
      "\n",
      "2019-05-14 00:00:00 Named for the city in southwestern Iran, salad-e Shirazi is found on practically every Iranian table at practically every meal. Think of it as an herbier, juicier, more acidic version of Greek salad, Israeli salad or Indian kachumber. It should be bright, crunchy and tart, a nice counterpoint to rich, buttery rice and unctuous stews. Toss the cucumbers, onion, herbs and tomatoes with the lime vinaigrette just before serving to preserve their crunch. In Iran, dining companions usually fight over the leftover juice at the end of a meal. \n",
      "\n",
      "2019-05-14 00:00:00 Fesenjoon hails from the verdant northern Iranian hills and coast, where pomegranate and walnut trees grow. Taking its flavor cues from the land, this stew braises bone-in chicken thighs in a blend of toasted walnuts, pomegranate juice and pomegranate molasses. As the sauce cooks, it thickens and deepens to a shade of dark brown similar to that of mole poblano. You’ll need to thin it out with water to prevent it from becoming overly sticky and syrupy. The sweet and sour flavors of the pomegranate, along with the silky texture the walnuts bring to the stew, make it one of the most elegant dishes in Persian cuisine. \n",
      "\n",
      "2019-05-14 00:00:00 Yogurt, both plain and with cucumbers, is everywhere on Iranian tables — the thicker and sourer, the better. Mast-o khiar is an everyday side similar to Indian raita or Greek tzatziki, but raisins, walnuts and rose petals elevate this version of the dish, adding a host of different flavors and textures. Dice, rather than grate, the cucumbers to keep them from getting watery, and don’t skip the dried mint and dried dill, which add dimension to the fresh herbs. \n",
      "\n",
      "2019-05-09 00:00:00 This simple recipe takes the 3-2-1 spritz formula to heart, relying on just three quality ingredients. Amari styles vary wildly in viscosity and flavor, from intensely bitter to lightly sweet and floral, which means different bottles match different moods. To make sure you’re always prepared, stock a few of the bitter liqueurs and start drinking. Current favorites include French China-China (spiced, earthy and orange-based), Sicilian Averna (sweet, citrusy), Californian Lo-Fi Gentian Amaro (juicy, floral) and Brooklyn-based Forthave Spirits Marseille Amaro (herbal, with warm spices). To these, add any hyper-regional bottles you’ve tucked into a suitcase. All spritz nicely, especially when paired with a lime wheel. \n",
      "\n",
      "2019-05-14 00:00:00 Iran’s most beloved and ubiquitous peasant dish, abgoosht (or “meat water”) is made with inexpensive, bony cuts of meat, which take a back seat to the broth and the sheer ceremony involved in serving it all. Once the stew is cooked, it is divided into two parts: The meat, potatoes and beans are pulled from the stock and mashed into a meat paste, goosht kubideh. Simple to prepare, the dish turns into an occasion for a gathering, as the broth and meat paste are served with piles of warm flatbread, pickles and fresh herbs, palate cleansers that offset the richness of the dish. \n",
      "\n",
      "2019-05-14 00:00:00 No dinner in an Iranian household is complete without polo, or rice. And no pot of polo is complete without tahdig, the crisp crust whose name means “bottom of the pot.” Tahdig is a highlight of Persian cuisine, and it can be made of rice, potatoes, lettuce or bread, as it is here. If you can’t get your hands on lavash bread, use a thin flour tortilla to line the bottom of the pot. Tahdig is easiest to prepare in a nonstick pot, but you could also prepare it in a cast-iron Dutch oven by reducing the heat to low and extending the cooking time to 50 minutes. \n",
      "\n",
      "2019-05-10 00:00:00 You may see artichokes in the supermarket year-round, but in the spring, they are at their peak, freshly harvested and full of flavor. This is an easy method for roasted artichokes. After trimming and par-cooking them, they are drizzled with olive oil and roasted until crisp without and tender within. Serve them as a first course, or alongside a meaty piece of fish, such as monkfish, swordfish or halibut. The zesty, lemony anchovy mayonnaise is a perfect foil for the artichokes’ sweetness, and goes well with fish, too. You can use any size artichoke for this recipe, but medium is best. \n",
      "\n",
      "2019-05-09 00:00:00 This simple variation gets a one-two punch of bitter quinine from both tonic and Lillet Blanc. A fortified white wine-based apéritif made outside Bordeaux, Lillet (pronounced lee-LAY) is golden hued, citrus forward and has been clinking around bars since 1872. Since all the ingredients in the cocktail (Lillet, bubbles, tonic) skew somewhat sweet — in spite of quinine’s bitter notes — make sure to seek out both dry tonic and dry sparkling wine to avoid crossing over to saccharine. If you don’t have access to dry tonic, you can also use equal parts tonic and club soda. \n",
      "\n",
      "2019-05-14 00:00:00 Faloodeh is an ancient Persian dessert, a sort of granita threaded with rice noodles and spiked with rose water and lime. Though you may typically cook noodles until al dente, you’ll need to really cook them through here before adding them to the syrup so that they soak up enough liquid to become as crunchy as possible as they freeze. In Iran, most ice cream shops sell just two items: traditional saffron ice cream and faloodeh, which is typically topped with bottled lime juice that tastes mostly of citric acid. Faloodeh has been my favorite since childhood, but now I prefer it with the juice of freshly squeezed limes. It’s incredibly refreshing and the ideal end to a rich meal filled with complex flavors. \n",
      "\n"
     ]
    }
   ],
   "source": [
    "# looks like it works\n",
    "\n",
    "for doc in descr_col.find(q_has_desc_and_article_or_image)[:10]:\n",
    "    print(doc['pub_date'], doc['recipe_description'], '\\n')"
   ]
  },
  {
   "cell_type": "code",
   "execution_count": null,
   "metadata": {},
   "outputs": [],
   "source": []
  }
 ],
 "metadata": {
  "kernelspec": {
   "display_name": "metis",
   "language": "python",
   "name": "metis"
  },
  "language_info": {
   "codemirror_mode": {
    "name": "ipython",
    "version": 3
   },
   "file_extension": ".py",
   "mimetype": "text/x-python",
   "name": "python",
   "nbconvert_exporter": "python",
   "pygments_lexer": "ipython3",
   "version": "3.6.8"
  }
 },
 "nbformat": 4,
 "nbformat_minor": 2
}
